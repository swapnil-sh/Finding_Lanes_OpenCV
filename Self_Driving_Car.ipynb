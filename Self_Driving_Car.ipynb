{
 "cells": [
  {
   "cell_type": "markdown",
   "metadata": {},
   "source": [
    "## 1. Finding Lanes"
   ]
  },
  {
   "cell_type": "code",
   "execution_count": 8,
   "metadata": {},
   "outputs": [],
   "source": [
    "import cv2\n",
    "import numpy as np\n",
    "import matplotlib.pyplot as plt\n",
    "\n",
    "image = cv2.imread('test_image.jpg')\n"
   ]
  },
  {
   "cell_type": "code",
   "execution_count": 2,
   "metadata": {},
   "outputs": [],
   "source": [
    "cv2.imshow('result',image)\n",
    "cv2.waitKey(0)\n",
    "cv2.destroyAllWindows()"
   ]
  },
  {
   "cell_type": "code",
   "execution_count": 5,
   "metadata": {},
   "outputs": [],
   "source": [
    "#Creating a copy of image and coverting the image to grayscale for better analysis\n",
    "\n",
    "lane_image = np.copy(image)\n",
    "gray = cv2.cvtColor(lane_image,cv2.COLOR_RGB2GRAY)\n",
    "\n",
    "# we are using Gaussian Blur to blur the image so that the noise gets reduced\n",
    "blur = cv2.GaussianBlur(gray,(5,5),0)\n",
    "\n",
    "cv2.imshow('result',blur)\n",
    "cv2.waitKey(0)\n",
    "cv2.destroyAllWindows()"
   ]
  },
  {
   "cell_type": "markdown",
   "metadata": {},
   "source": [
    "## Now we will be applying Canny method to identify the edges\n",
    "\n",
    "An edge corresponds to a region in an image where there is a sharp change in the intensity or a sharp change in colour between adjacent pixels in the image.\n",
    "The change in brightness over  series of pixels is the Gradient.\n",
    "\n",
    "A strong Gradient indicates a steep change wehereas a small gradient indicates a shallow change\n",
    "\n",
    "An image is composed pf pixels and can be therefore be read as a matrix an array of pixel intensities.\n",
    "\n",
    "We can also represent an image in 2-D coordinate space where X-axis traversesthe images width (#coloumns) and Y-axis traverses images height (#rows)\n",
    "\n",
    "The canny function will perform a derivateive on our function in both x and y directions thereby measuring the change in intensity with respect to adjacent pixels. It computes the gradient in all directions of our blurred image and is then going to trace our strongest gradients as a series of white pixels."
   ]
  },
  {
   "cell_type": "code",
   "execution_count": 13,
   "metadata": {},
   "outputs": [],
   "source": [
    "canny = cv2.Canny(blur,50,50)\n",
    "\n",
    "cv2.imshow('result',canny)\n",
    "cv2.waitKey(0)\n",
    "cv2.destroyAllWindows()"
   ]
  },
  {
   "cell_type": "markdown",
   "metadata": {},
   "source": [
    "## Region of Interest\n",
    "\n",
    "We are going to specify a region of interest in our image that we are going to use to detect landmines.We will isolate the region of interest and mask everything else."
   ]
  },
  {
   "cell_type": "code",
   "execution_count": 20,
   "metadata": {},
   "outputs": [],
   "source": [
    "def region_of_interest(image):\n",
    "    height = image.shape[0]\n",
    "    polygons = np.array([[(200,height),(1100,height),(550,250)]]) #creating triangle or polygon retracing the path from our image\n",
    "    mask = np.zeros_like(image)\n",
    "    cv2.fillPoly(mask,polygons,255)\n",
    "    masked_image = cv2.bitwise_and(image,mask) #we are doing bitwise AND between two image matrices of canny image and triangle image tht we created \n",
    "    return masked_image\n",
    "\n",
    "cropped_image = region_of_interest(canny)\n",
    "cv2.imshow('result',cropped_image)\n",
    "cv2.waitKey(0)\n",
    "cv2.destroyAllWindows()"
   ]
  },
  {
   "cell_type": "markdown",
   "metadata": {},
   "source": [
    "## Line Detection - Hough  Transform\n",
    "\n",
    "There are multiple equations with which we can represent a line. Two of them are \n",
    "\n",
    "1. y = mx +b\n",
    "2. xcos(o)+ysin(o) = p\n",
    "\n",
    "    * p is the perpendicular distance from the origin to the line.\n",
    "    * o is the angle formed by this perpendicular line and horizontal axis.\n",
    "    \n",
    "## Intuition :\n",
    "\n",
    "* In an image space, a line is plotted as x vs y and plotted as y = mx+b or xcos(o)+ysin(o) = p\n",
    "* In parameter space (hough), a line is represented by a point \"m vs b\".\n",
    "* Each line is represented as a single point with (m,b) coordinate"
   ]
  },
  {
   "cell_type": "markdown",
   "metadata": {},
   "source": []
  }
 ],
 "metadata": {
  "kernelspec": {
   "display_name": "Python 3",
   "language": "python",
   "name": "python3"
  },
  "language_info": {
   "codemirror_mode": {
    "name": "ipython",
    "version": 3
   },
   "file_extension": ".py",
   "mimetype": "text/x-python",
   "name": "python",
   "nbconvert_exporter": "python",
   "pygments_lexer": "ipython3",
   "version": "3.7.0"
  }
 },
 "nbformat": 4,
 "nbformat_minor": 2
}
